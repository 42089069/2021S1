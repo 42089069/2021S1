{
 "cells": [
  {
   "cell_type": "markdown",
   "metadata": {
    "slideshow": {
     "slide_type": "slide"
    }
   },
   "source": [
    "# Basic Python\n",
    "### Beginning Python"
   ]
  },
  {
   "cell_type": "code",
   "execution_count": 1,
   "metadata": {},
   "outputs": [],
   "source": [
    "def hello (who):                          # 1\n",
    "    \"\"\"Greet somebody\"\"\"                  # 2\n",
    "    print(\"Hello \" + who + \"!\")           # 3"
   ]
  },
  {
   "cell_type": "markdown",
   "metadata": {
    "slideshow": {
     "slide_type": "notes"
    }
   },
   "source": [
    "1 Defines a new function/procedure called `hello` which takes a single argument.  Note that python variables are not typed, who could be a string, integer, array ... The line ends with a colon (:) which means we're beginning an indented code block.\n",
    "\n",
    "2 Firstly note that there are no brackets delimiting the body of the procedure, Python instead uses indentation to delimit code blocks. So, getting the indentation right is crucial!\n",
    "  \n",
    "This line (2) is a documentation string for the procedure which gets associated with it in the python environment. The three double quotes delimit a multi-line string (could use ' or \" in this context).\n",
    "\n",
    "3 This is the body of the procedure, ``print`` is a built in command in python. Note that the Python 2.x versions do not use round brackets, this is a major difference with Python 3.x. We also see here the `+` operator used on strings (I'm assuming `who`is a string) to perform concatenation --- thus we have operator overloading based on object type just like other OO languages.\n"
   ]
  },
  {
   "cell_type": "code",
   "execution_count": 2,
   "metadata": {},
   "outputs": [
    {
     "output_type": "stream",
     "name": "stdout",
     "text": [
      "Help on function hello in module __main__:\n\nhello(who)\n    Greet somebody\n\n"
     ]
    }
   ],
   "source": [
    "help(hello)"
   ]
  },
  {
   "cell_type": "code",
   "execution_count": 3,
   "metadata": {},
   "outputs": [
    {
     "output_type": "stream",
     "name": "stdout",
     "text": [
      "Hello Steve!\n"
     ]
    }
   ],
   "source": [
    "hello(\"Steve\")"
   ]
  },
  {
   "cell_type": "markdown",
   "metadata": {
    "slideshow": {
     "slide_type": "notes"
    }
   },
   "source": [
    "Here I'm calling the new procedure with a literal string argument delimited by `\"`."
   ]
  },
  {
   "cell_type": "code",
   "execution_count": 4,
   "metadata": {},
   "outputs": [
    {
     "output_type": "stream",
     "name": "stdout",
     "text": [
      "Hello world!\n"
     ]
    }
   ],
   "source": [
    "hello('world')"
   ]
  },
  {
   "cell_type": "markdown",
   "metadata": {
    "slideshow": {
     "slide_type": "notes"
    }
   },
   "source": [
    "And here delimited by `'` --- both of these delimiters are equivalent, use one if you want to include the other in the string, eg `\"Steve's\"`."
   ]
  },
  {
   "cell_type": "code",
   "execution_count": 5,
   "metadata": {},
   "outputs": [
    {
     "output_type": "stream",
     "name": "stdout",
     "text": [
      "Hello Steve!\nHello Mark!\nHello Diego!\n"
     ]
    }
   ],
   "source": [
    "people =  ['Steve', \"Mark\", 'Diego']      # 6\n",
    "for person in people:                     # 7\n",
    "    hello(person)                         # 8"
   ]
  },
  {
   "cell_type": "markdown",
   "metadata": {
    "slideshow": {
     "slide_type": "notes"
    }
   },
   "source": [
    "6 This defines a variable people to have a value which is a list of strings, lists are 1-D arrays and the elements can be any python object (including lists).\n",
    "\n",
    "7 A `for` loop over the elements of the list. Again the line ends with a colon indicating a code block to follow.\n",
    "\n",
    "8 Call the procedure with the variable which will be bound to successive elements of the list.\n"
   ]
  },
  {
   "cell_type": "markdown",
   "metadata": {
    "slideshow": {
     "slide_type": "slide"
    }
   },
   "source": [
    "### Core Data Types\n",
    "1. Strings\n",
    "2. Numbers (integers, float, complex)\n",
    "3. Lists\n",
    "4. Tuples (inmutable sequences)\n",
    "5. Dictionaries (associative arrays)\n"
   ]
  },
  {
   "cell_type": "markdown",
   "metadata": {
    "slideshow": {
     "slide_type": "slide"
    }
   },
   "source": [
    "### Lists"
   ]
  },
  {
   "cell_type": "code",
   "execution_count": 6,
   "metadata": {},
   "outputs": [],
   "source": [
    "a = ['one', 'two', 3, 'four']"
   ]
  },
  {
   "cell_type": "code",
   "execution_count": 7,
   "metadata": {},
   "outputs": [
    {
     "output_type": "execute_result",
     "data": {
      "text/plain": [
       "'one'"
      ]
     },
     "metadata": {},
     "execution_count": 7
    }
   ],
   "source": [
    "a[0]"
   ]
  },
  {
   "cell_type": "code",
   "execution_count": 8,
   "metadata": {},
   "outputs": [
    {
     "output_type": "execute_result",
     "data": {
      "text/plain": [
       "'four'"
      ]
     },
     "metadata": {},
     "execution_count": 8
    }
   ],
   "source": [
    "a[-1]"
   ]
  },
  {
   "cell_type": "code",
   "execution_count": 9,
   "metadata": {},
   "outputs": [
    {
     "output_type": "execute_result",
     "data": {
      "text/plain": [
       "['one', 'two', 3]"
      ]
     },
     "metadata": {},
     "execution_count": 9
    }
   ],
   "source": [
    "a[0:3]"
   ]
  },
  {
   "cell_type": "code",
   "execution_count": 10,
   "metadata": {},
   "outputs": [
    {
     "output_type": "execute_result",
     "data": {
      "text/plain": [
       "4"
      ]
     },
     "metadata": {},
     "execution_count": 10
    }
   ],
   "source": [
    "len(a)"
   ]
  },
  {
   "cell_type": "code",
   "execution_count": 11,
   "metadata": {},
   "outputs": [
    {
     "output_type": "execute_result",
     "data": {
      "text/plain": [
       "3"
      ]
     },
     "metadata": {},
     "execution_count": 11
    }
   ],
   "source": [
    "len(a[0])"
   ]
  },
  {
   "cell_type": "code",
   "execution_count": 12,
   "metadata": {},
   "outputs": [
    {
     "output_type": "execute_result",
     "data": {
      "text/plain": [
       "['one', 2, 3, 'four']"
      ]
     },
     "metadata": {},
     "execution_count": 12
    }
   ],
   "source": [
    "a[1] = 2\n",
    "a"
   ]
  },
  {
   "cell_type": "code",
   "execution_count": 13,
   "metadata": {
    "slideshow": {
     "slide_type": "subslide"
    }
   },
   "outputs": [
    {
     "output_type": "execute_result",
     "data": {
      "text/plain": [
       "['one', 2, 3, 'four', 'five']"
      ]
     },
     "metadata": {},
     "execution_count": 13
    }
   ],
   "source": [
    "a.append('five')\n",
    "a"
   ]
  },
  {
   "cell_type": "code",
   "execution_count": 14,
   "metadata": {},
   "outputs": [
    {
     "output_type": "execute_result",
     "data": {
      "text/plain": [
       "['one', 2, 3, 'four']"
      ]
     },
     "metadata": {},
     "execution_count": 14
    }
   ],
   "source": [
    "top = a.pop()\n",
    "a"
   ]
  },
  {
   "cell_type": "code",
   "execution_count": 15,
   "metadata": {},
   "outputs": [
    {
     "output_type": "execute_result",
     "data": {
      "text/plain": [
       "'five'"
      ]
     },
     "metadata": {},
     "execution_count": 15
    }
   ],
   "source": [
    "top"
   ]
  },
  {
   "cell_type": "markdown",
   "metadata": {
    "slideshow": {
     "slide_type": "slide"
    }
   },
   "source": [
    "### List Comprehensions\n",
    "List comprehensions are a very powerful feature of Python. They reduce the need to write simple loops."
   ]
  },
  {
   "cell_type": "code",
   "execution_count": 16,
   "metadata": {},
   "outputs": [
    {
     "output_type": "execute_result",
     "data": {
      "text/plain": [
       "3"
      ]
     },
     "metadata": {},
     "execution_count": 16
    }
   ],
   "source": [
    "a = ['one', 'two', 'three', 'four']\n",
    "len(a[0])"
   ]
  },
  {
   "cell_type": "code",
   "execution_count": 17,
   "metadata": {},
   "outputs": [
    {
     "output_type": "execute_result",
     "data": {
      "text/plain": [
       "['three', 'four']"
      ]
     },
     "metadata": {},
     "execution_count": 17
    }
   ],
   "source": [
    "b = [w for w in a if len(w) > 3]\n",
    "b"
   ]
  },
  {
   "cell_type": "code",
   "execution_count": 18,
   "metadata": {},
   "outputs": [
    {
     "output_type": "execute_result",
     "data": {
      "text/plain": [
       "['one', 'two', 'three']"
      ]
     },
     "metadata": {},
     "execution_count": 18
    }
   ],
   "source": [
    "c = [[1,'one'],[2,'two'],[3,'three']]\n",
    "d = [w for [n,w] in c]\n",
    "d"
   ]
  },
  {
   "cell_type": "markdown",
   "metadata": {
    "slideshow": {
     "slide_type": "slide"
    }
   },
   "source": [
    "### Tuples\n",
    "Tuples are a sequence data type like lists but are immutable:\n",
    "* Once created, elements cannot be added or modified.\n",
    "\n",
    "Create tuples as literals using parentheses:\n"
   ]
  },
  {
   "cell_type": "code",
   "execution_count": 19,
   "metadata": {},
   "outputs": [],
   "source": [
    "a  = ('one', 'two', 'three')"
   ]
  },
  {
   "cell_type": "markdown",
   "metadata": {},
   "source": [
    "Or from another sequence type:"
   ]
  },
  {
   "cell_type": "code",
   "execution_count": 20,
   "metadata": {},
   "outputs": [],
   "source": [
    "a = ['one', 'two', 'three']\n",
    "b = tuple(a)"
   ]
  },
  {
   "cell_type": "markdown",
   "metadata": {
    "slideshow": {
     "slide_type": "-"
    }
   },
   "source": [
    "Use tuples as fixed length sequences: memory advantages.\n",
    "\n"
   ]
  },
  {
   "cell_type": "markdown",
   "metadata": {
    "slideshow": {
     "slide_type": "slide"
    }
   },
   "source": [
    "### Dictionaries\n",
    "* Associative array datatype (hash)\n",
    "* Store values under some hash key\n",
    "* Key can be any immutable type: string, number, tuple"
   ]
  },
  {
   "cell_type": "code",
   "execution_count": 21,
   "metadata": {},
   "outputs": [
    {
     "output_type": "execute_result",
     "data": {
      "text/plain": [
       "dict_keys(['madonna', 'john'])"
      ]
     },
     "metadata": {},
     "execution_count": 21
    }
   ],
   "source": [
    "names = dict()\n",
    "names['madonna'] = 'Madonna'\n",
    "names['john'] = ['Dr.', 'John', 'Marshall']\n",
    "names.keys()"
   ]
  },
  {
   "cell_type": "code",
   "execution_count": 22,
   "metadata": {},
   "outputs": [
    {
     "output_type": "execute_result",
     "data": {
      "text/plain": [
       "['madonna', 'john']"
      ]
     },
     "metadata": {},
     "execution_count": 22
    }
   ],
   "source": [
    "list(names.keys())"
   ]
  },
  {
   "cell_type": "code",
   "execution_count": 23,
   "metadata": {},
   "outputs": [
    {
     "output_type": "execute_result",
     "data": {
      "text/plain": [
       "True"
      ]
     },
     "metadata": {},
     "execution_count": 23
    }
   ],
   "source": [
    "ages = {'steve':41, 'john':22}\n",
    "'john' in ages"
   ]
  },
  {
   "cell_type": "code",
   "execution_count": 24,
   "metadata": {},
   "outputs": [
    {
     "output_type": "execute_result",
     "data": {
      "text/plain": [
       "False"
      ]
     },
     "metadata": {},
     "execution_count": 24
    }
   ],
   "source": [
    "41 in ages"
   ]
  },
  {
   "cell_type": "code",
   "execution_count": 25,
   "metadata": {},
   "outputs": [
    {
     "output_type": "execute_result",
     "data": {
      "text/plain": [
       "True"
      ]
     },
     "metadata": {},
     "execution_count": 25
    }
   ],
   "source": [
    "'john' in ages.keys()"
   ]
  },
  {
   "cell_type": "code",
   "execution_count": 26,
   "metadata": {
    "slideshow": {
     "slide_type": "subslide"
    }
   },
   "outputs": [
    {
     "output_type": "stream",
     "name": "stdout",
     "text": [
      "steve 41\njohn 22\n"
     ]
    }
   ],
   "source": [
    "for k in ages:\n",
    "    print(k, ages[k])"
   ]
  },
  {
   "cell_type": "markdown",
   "metadata": {
    "slideshow": {
     "slide_type": "slide"
    }
   },
   "source": [
    "### Organising Source Code: Modules\n",
    "* In Python, a module is  a single source file wich defines one or more procedures or classes.\n",
    "* Load a module with the `import` directive.\n",
    "* After importing the module, all functions are grouped in the module namespace.\n",
    "* Python provides many useful modules.\n"
   ]
  },
  {
   "cell_type": "code",
   "execution_count": 27,
   "metadata": {},
   "outputs": [
    {
     "output_type": "execute_result",
     "data": {
      "text/plain": [
       "21.972245773362197"
      ]
     },
     "metadata": {},
     "execution_count": 27
    }
   ],
   "source": [
    "import math\n",
    "20 * math.log(3)"
   ]
  },
  {
   "cell_type": "markdown",
   "metadata": {
    "slideshow": {
     "slide_type": "slide"
    }
   },
   "source": [
    "### Defining Modules\n",
    "* A module is a source file containing Python code\n",
    "    * Usually class/function definitions.\n",
    "* First non comment item can be a docstring for the module.\n",
    "\n",
    "```python\n",
    "# my python module\n",
    "\"\"\"This is a python module to\n",
    "do something interesting\"\"\"\n",
    "\n",
    "def foo(x):\n",
    "   'foo the x'\n",
    "   print('the foo is ' + str(x))\n",
    "```"
   ]
  },
  {
   "cell_type": "markdown",
   "metadata": {
    "slideshow": {
     "slide_type": "slide"
    }
   },
   "source": [
    "# NLTK\n",
    "NLTK is a Python module"
   ]
  },
  {
   "cell_type": "code",
   "execution_count": 28,
   "metadata": {},
   "outputs": [],
   "source": [
    "import nltk"
   ]
  },
  {
   "cell_type": "markdown",
   "metadata": {},
   "source": [
    "Let's do some simple statistics on the Gutenberg corpus"
   ]
  },
  {
   "cell_type": "code",
   "execution_count": 29,
   "metadata": {},
   "outputs": [
    {
     "output_type": "stream",
     "name": "stderr",
     "text": [
      "[nltk_data] Downloading package gutenberg to /home/diego/nltk_data...\n",
      "[nltk_data]   Unzipping corpora/gutenberg.zip.\n"
     ]
    },
    {
     "output_type": "execute_result",
     "data": {
      "text/plain": [
       "['austen-emma.txt',\n",
       " 'austen-persuasion.txt',\n",
       " 'austen-sense.txt',\n",
       " 'bible-kjv.txt',\n",
       " 'blake-poems.txt',\n",
       " 'bryant-stories.txt',\n",
       " 'burgess-busterbrown.txt',\n",
       " 'carroll-alice.txt',\n",
       " 'chesterton-ball.txt',\n",
       " 'chesterton-brown.txt',\n",
       " 'chesterton-thursday.txt',\n",
       " 'edgeworth-parents.txt',\n",
       " 'melville-moby_dick.txt',\n",
       " 'milton-paradise.txt',\n",
       " 'shakespeare-caesar.txt',\n",
       " 'shakespeare-hamlet.txt',\n",
       " 'shakespeare-macbeth.txt',\n",
       " 'whitman-leaves.txt']"
      ]
     },
     "metadata": {},
     "execution_count": 29
    }
   ],
   "source": [
    "nltk.download('gutenberg')\n",
    "nltk.corpus.gutenberg.fileids()"
   ]
  },
  {
   "cell_type": "code",
   "execution_count": 30,
   "metadata": {
    "slideshow": {
     "slide_type": "subslide"
    }
   },
   "outputs": [
    {
     "output_type": "execute_result",
     "data": {
      "text/plain": [
       "192427"
      ]
     },
     "metadata": {},
     "execution_count": 30
    }
   ],
   "source": [
    "emma = nltk.corpus.gutenberg.words('austen-emma.txt')\n",
    "len(emma)"
   ]
  },
  {
   "cell_type": "code",
   "execution_count": 31,
   "metadata": {},
   "outputs": [
    {
     "output_type": "stream",
     "name": "stderr",
     "text": [
      "[nltk_data] Downloading package punkt to /home/diego/nltk_data...\n",
      "[nltk_data]   Package punkt is already up-to-date!\n",
      "5 25 26 austen-emma.txt\n",
      "5 26 17 austen-persuasion.txt\n",
      "5 28 22 austen-sense.txt\n",
      "4 34 79 bible-kjv.txt\n",
      "5 19 5 blake-poems.txt\n",
      "4 19 14 bryant-stories.txt\n",
      "4 18 12 burgess-busterbrown.txt\n",
      "4 20 13 carroll-alice.txt\n",
      "5 20 12 chesterton-ball.txt\n",
      "5 23 11 chesterton-brown.txt\n",
      "5 18 11 chesterton-thursday.txt\n",
      "4 21 25 edgeworth-parents.txt\n",
      "5 26 15 melville-moby_dick.txt\n",
      "5 52 11 milton-paradise.txt\n",
      "4 12 9 shakespeare-caesar.txt\n",
      "4 12 8 shakespeare-hamlet.txt\n",
      "4 12 7 shakespeare-macbeth.txt\n",
      "5 36 12 whitman-leaves.txt\n"
     ]
    }
   ],
   "source": [
    "nltk.download('punkt')\n",
    "from nltk.corpus import gutenberg\n",
    "for fileid in gutenberg.fileids():\n",
    "    num_chars = len(gutenberg.raw(fileid))\n",
    "    num_words = len(gutenberg.words(fileid))\n",
    "    num_sents = len(gutenberg.sents(fileid))\n",
    "    num_vocab = len(set(w.lower() for w in gutenberg.words(fileid)))\n",
    "    print(round(num_chars/num_words), round(num_words/num_sents), round(num_words/num_vocab), fileid)"
   ]
  },
  {
   "cell_type": "markdown",
   "metadata": {
    "slideshow": {
     "slide_type": "slide"
    }
   },
   "source": [
    "### Counting Words"
   ]
  },
  {
   "cell_type": "code",
   "execution_count": 32,
   "metadata": {},
   "outputs": [
    {
     "output_type": "execute_result",
     "data": {
      "text/plain": [
       "[(',', 11454),\n",
       " ('.', 6928),\n",
       " ('to', 5183),\n",
       " ('the', 4844),\n",
       " ('and', 4672),\n",
       " ('of', 4279),\n",
       " ('I', 3178),\n",
       " ('a', 3004),\n",
       " ('was', 2385),\n",
       " ('her', 2381)]"
      ]
     },
     "metadata": {},
     "execution_count": 32
    }
   ],
   "source": [
    "import collections\n",
    "emma_counter = collections.Counter(emma)\n",
    "emma_counter.most_common(10)"
   ]
  },
  {
   "cell_type": "code",
   "execution_count": 33,
   "metadata": {},
   "outputs": [
    {
     "output_type": "execute_result",
     "data": {
      "text/plain": [
       "865"
      ]
     },
     "metadata": {},
     "execution_count": 33
    }
   ],
   "source": [
    "emma_counter['Emma']"
   ]
  },
  {
   "cell_type": "markdown",
   "metadata": {
    "slideshow": {
     "slide_type": "slide"
    }
   },
   "source": [
    "### Exercises\n",
    "1. Identify the 10 most common words in each file of the Gutenberg corpus. Can you see any similarities among them?\n",
    "2. Find the most frequent word with length of at least 7 characters.\n",
    "3. Find the words that are longer than 7 characters and occur more than 7 times."
   ]
  },
  {
   "cell_type": "markdown",
   "metadata": {
    "slideshow": {
     "slide_type": "slide"
    }
   },
   "source": [
    "### Count Bigrams\n",
    "A bigram is a sequence of two words."
   ]
  },
  {
   "cell_type": "code",
   "execution_count": 34,
   "metadata": {},
   "outputs": [
    {
     "output_type": "execute_result",
     "data": {
      "text/plain": [
       "[(1, 2), (2, 3), (3, 4), (4, 5), (5, 6)]"
      ]
     },
     "metadata": {},
     "execution_count": 34
    }
   ],
   "source": [
    "list(nltk.bigrams([1,2,3,4,5,6]))"
   ]
  },
  {
   "cell_type": "code",
   "execution_count": 35,
   "metadata": {},
   "outputs": [
    {
     "output_type": "execute_result",
     "data": {
      "text/plain": [
       "[('[', 'Emma'),\n",
       " ('Emma', 'by'),\n",
       " ('by', 'Jane'),\n",
       " ('Jane', 'Austen'),\n",
       " ('Austen', '1816')]"
      ]
     },
     "metadata": {},
     "execution_count": 35
    }
   ],
   "source": [
    "list(nltk.bigrams(emma))[:5]"
   ]
  },
  {
   "cell_type": "markdown",
   "metadata": {},
   "source": [
    "* A bigram is an ngram where n is 2\n",
    "* A trigram is an ngram where n is 3"
   ]
  },
  {
   "cell_type": "code",
   "execution_count": 36,
   "metadata": {},
   "outputs": [
    {
     "output_type": "execute_result",
     "data": {
      "text/plain": [
       "[('[', 'Emma', 'by', 'Jane'),\n",
       " ('Emma', 'by', 'Jane', 'Austen'),\n",
       " ('by', 'Jane', 'Austen', '1816'),\n",
       " ('Jane', 'Austen', '1816', ']'),\n",
       " ('Austen', '1816', ']', 'VOLUME')]"
      ]
     },
     "metadata": {},
     "execution_count": 36
    }
   ],
   "source": [
    "list(nltk.ngrams(emma,4))[:5]"
   ]
  },
  {
   "cell_type": "markdown",
   "metadata": {
    "slideshow": {
     "slide_type": "slide"
    }
   },
   "source": [
    "### Exercises\n",
    "1. Find the most frequent bigram in Austin's Emma.\n",
    "2. Find the most frequent bigram that begins with 'the'."
   ]
  },
  {
   "cell_type": "markdown",
   "metadata": {
    "slideshow": {
     "slide_type": "slide"
    }
   },
   "source": [
    "# Text Processing in Python"
   ]
  },
  {
   "cell_type": "markdown",
   "metadata": {},
   "source": [
    "### Sorting\n",
    "* The function `sorted()` returns a sorted copy.\n",
    "* Sequences can be sorted in place with the `sort()` method.\n",
    "* Python 3 does not support sorting of lists with mixed contents."
   ]
  },
  {
   "cell_type": "code",
   "execution_count": 37,
   "metadata": {},
   "outputs": [
    {
     "output_type": "execute_result",
     "data": {
      "text/plain": [
       "[1, 2, 5, 9, 11]"
      ]
     },
     "metadata": {},
     "execution_count": 37
    }
   ],
   "source": [
    "foo = [2,5,9,1,11]\n",
    "sorted(foo)"
   ]
  },
  {
   "cell_type": "code",
   "execution_count": 38,
   "metadata": {},
   "outputs": [
    {
     "output_type": "execute_result",
     "data": {
      "text/plain": [
       "[2, 5, 9, 1, 11]"
      ]
     },
     "metadata": {},
     "execution_count": 38
    }
   ],
   "source": [
    "foo"
   ]
  },
  {
   "cell_type": "code",
   "execution_count": 39,
   "metadata": {},
   "outputs": [],
   "source": [
    "foo.sort()"
   ]
  },
  {
   "cell_type": "code",
   "execution_count": 40,
   "metadata": {},
   "outputs": [
    {
     "output_type": "execute_result",
     "data": {
      "text/plain": [
       "[1, 2, 5, 9, 11]"
      ]
     },
     "metadata": {},
     "execution_count": 40
    }
   ],
   "source": [
    "foo"
   ]
  },
  {
   "cell_type": "code",
   "execution_count": 41,
   "metadata": {
    "slideshow": {
     "slide_type": "subslide"
    }
   },
   "outputs": [
    {
     "output_type": "error",
     "ename": "TypeError",
     "evalue": "'<' not supported between instances of 'str' and 'int'",
     "traceback": [
      "\u001b[0;31m---------------------------------------------------------------------------\u001b[0m",
      "\u001b[0;31mTypeError\u001b[0m                                 Traceback (most recent call last)",
      "\u001b[0;32m<ipython-input-41-30e583885c1d>\u001b[0m in \u001b[0;36m<module>\u001b[0;34m\u001b[0m\n\u001b[1;32m      1\u001b[0m \u001b[0mfoo2\u001b[0m \u001b[0;34m=\u001b[0m \u001b[0;34m[\u001b[0m\u001b[0;36m2\u001b[0m\u001b[0;34m,\u001b[0m\u001b[0;36m5\u001b[0m\u001b[0;34m,\u001b[0m\u001b[0;36m6\u001b[0m\u001b[0;34m,\u001b[0m\u001b[0;36m1\u001b[0m\u001b[0;34m,\u001b[0m\u001b[0;34m'a'\u001b[0m\u001b[0;34m]\u001b[0m\u001b[0;34m\u001b[0m\u001b[0;34m\u001b[0m\u001b[0m\n\u001b[0;32m----> 2\u001b[0;31m \u001b[0msorted\u001b[0m\u001b[0;34m(\u001b[0m\u001b[0mfoo2\u001b[0m\u001b[0;34m)\u001b[0m\u001b[0;34m\u001b[0m\u001b[0;34m\u001b[0m\u001b[0m\n\u001b[0m",
      "\u001b[0;31mTypeError\u001b[0m: '<' not supported between instances of 'str' and 'int'"
     ]
    }
   ],
   "source": [
    "foo2 = [2,5,6,1,'a']\n",
    "sorted(foo2)"
   ]
  },
  {
   "cell_type": "markdown",
   "metadata": {
    "slideshow": {
     "slide_type": "slide"
    }
   },
   "source": [
    "### Sorting with a custom sorting criterion"
   ]
  },
  {
   "cell_type": "code",
   "execution_count": 42,
   "metadata": {},
   "outputs": [],
   "source": [
    "l = ['a','abc','b','c','aa','bb','cc']"
   ]
  },
  {
   "cell_type": "code",
   "execution_count": 43,
   "metadata": {},
   "outputs": [
    {
     "output_type": "execute_result",
     "data": {
      "text/plain": [
       "['a', 'aa', 'abc', 'b', 'bb', 'c', 'cc']"
      ]
     },
     "metadata": {},
     "execution_count": 43
    }
   ],
   "source": [
    "sorted(l)"
   ]
  },
  {
   "cell_type": "code",
   "execution_count": 44,
   "metadata": {},
   "outputs": [
    {
     "output_type": "execute_result",
     "data": {
      "text/plain": [
       "['a', 'b', 'c', 'aa', 'bb', 'cc', 'abc']"
      ]
     },
     "metadata": {},
     "execution_count": 44
    }
   ],
   "source": [
    "sorted(l,key=len)"
   ]
  },
  {
   "cell_type": "code",
   "execution_count": 45,
   "metadata": {},
   "outputs": [
    {
     "output_type": "execute_result",
     "data": {
      "text/plain": [
       "['abc', 'aa', 'bb', 'cc', 'a', 'b', 'c']"
      ]
     },
     "metadata": {},
     "execution_count": 45
    }
   ],
   "source": [
    "sorted(l,key=len,reverse=True)"
   ]
  },
  {
   "cell_type": "code",
   "execution_count": 46,
   "metadata": {},
   "outputs": [],
   "source": [
    "def my_len(x):\n",
    "    return -len(x)"
   ]
  },
  {
   "cell_type": "code",
   "execution_count": 47,
   "metadata": {},
   "outputs": [
    {
     "output_type": "execute_result",
     "data": {
      "text/plain": [
       "['abc', 'aa', 'bb', 'cc', 'a', 'b', 'c']"
      ]
     },
     "metadata": {},
     "execution_count": 47
    }
   ],
   "source": [
    "sorted(l,key=my_len)"
   ]
  },
  {
   "cell_type": "code",
   "execution_count": 48,
   "metadata": {},
   "outputs": [
    {
     "output_type": "execute_result",
     "data": {
      "text/plain": [
       "['abc', 'aa', 'bb', 'cc', 'a', 'b', 'c']"
      ]
     },
     "metadata": {},
     "execution_count": 48
    }
   ],
   "source": [
    "sorted(l,key = lambda x: -len(x))"
   ]
  },
  {
   "cell_type": "markdown",
   "metadata": {
    "slideshow": {
     "slide_type": "slide"
    }
   },
   "source": [
    "### Exercises\n",
    "You're given data of the following form:\n",
    "\n",
    "```python\n",
    "namedat = dict()\n",
    "namedat['mc'] = ('Madonna', 45)\n",
    "namedat['sc'] = ('Steve', 41)\n",
    "```\n",
    "\n",
    "1. How would you print a list ordered by name?\n",
    "2. How would you print a list ordered by age?"
   ]
  },
  {
   "cell_type": "markdown",
   "metadata": {
    "slideshow": {
     "slide_type": "slide"
    }
   },
   "source": [
    "### Strings in Python\n",
    "* String is a base type.\n",
    "* Strings are sequences and can use operations like lists or tuples."
   ]
  },
  {
   "cell_type": "code",
   "execution_count": 49,
   "metadata": {},
   "outputs": [
    {
     "output_type": "execute_result",
     "data": {
      "text/plain": [
       "8"
      ]
     },
     "metadata": {},
     "execution_count": 49
    }
   ],
   "source": [
    "foo = \"A string\"\n",
    "len(foo)"
   ]
  },
  {
   "cell_type": "code",
   "execution_count": 50,
   "metadata": {},
   "outputs": [
    {
     "output_type": "execute_result",
     "data": {
      "text/plain": [
       "'A'"
      ]
     },
     "metadata": {},
     "execution_count": 50
    }
   ],
   "source": [
    "foo[0]"
   ]
  },
  {
   "cell_type": "code",
   "execution_count": 51,
   "metadata": {},
   "outputs": [
    {
     "output_type": "execute_result",
     "data": {
      "text/plain": [
       "'A s'"
      ]
     },
     "metadata": {},
     "execution_count": 51
    }
   ],
   "source": [
    "foo[0:3]"
   ]
  },
  {
   "cell_type": "code",
   "execution_count": 52,
   "metadata": {},
   "outputs": [],
   "source": [
    "multifoo = \"\"\"A multiline \n",
    "string\"\"\""
   ]
  },
  {
   "cell_type": "code",
   "execution_count": 53,
   "metadata": {},
   "outputs": [
    {
     "output_type": "execute_result",
     "data": {
      "text/plain": [
       "'A multiline \\nstring'"
      ]
     },
     "metadata": {},
     "execution_count": 53
    }
   ],
   "source": [
    "multifoo"
   ]
  },
  {
   "cell_type": "code",
   "execution_count": 54,
   "metadata": {},
   "outputs": [
    {
     "output_type": "execute_result",
     "data": {
      "text/plain": [
       "'My string'"
      ]
     },
     "metadata": {},
     "execution_count": 54
    }
   ],
   "source": [
    "\"my string\".capitalize()"
   ]
  },
  {
   "cell_type": "code",
   "execution_count": 55,
   "metadata": {
    "slideshow": {
     "slide_type": "subslide"
    }
   },
   "outputs": [
    {
     "output_type": "error",
     "ename": "NameError",
     "evalue": "name 'capitalize' is not defined",
     "traceback": [
      "\u001b[0;31m---------------------------------------------------------------------------\u001b[0m",
      "\u001b[0;31mNameError\u001b[0m                                 Traceback (most recent call last)",
      "\u001b[0;32m<ipython-input-55-858f66cc7b53>\u001b[0m in \u001b[0;36m<module>\u001b[0;34m\u001b[0m\n\u001b[0;32m----> 1\u001b[0;31m \u001b[0mcapitalize\u001b[0m\u001b[0;34m(\u001b[0m\u001b[0;34m\"my string\"\u001b[0m\u001b[0;34m)\u001b[0m\u001b[0;34m\u001b[0m\u001b[0;34m\u001b[0m\u001b[0m\n\u001b[0m",
      "\u001b[0;31mNameError\u001b[0m: name 'capitalize' is not defined"
     ]
    }
   ],
   "source": [
    "capitalize(\"my string\")"
   ]
  },
  {
   "cell_type": "code",
   "execution_count": 56,
   "metadata": {},
   "outputs": [
    {
     "output_type": "execute_result",
     "data": {
      "text/plain": [
       "'MY STRING'"
      ]
     },
     "metadata": {},
     "execution_count": 56
    }
   ],
   "source": [
    "\"my string\".upper()"
   ]
  },
  {
   "cell_type": "code",
   "execution_count": 57,
   "metadata": {},
   "outputs": [
    {
     "output_type": "execute_result",
     "data": {
      "text/plain": [
       "'my string'"
      ]
     },
     "metadata": {},
     "execution_count": 57
    }
   ],
   "source": [
    "\"My String\".lower()"
   ]
  },
  {
   "cell_type": "code",
   "execution_count": 58,
   "metadata": {},
   "outputs": [
    {
     "output_type": "execute_result",
     "data": {
      "text/plain": [
       "2"
      ]
     },
     "metadata": {},
     "execution_count": 58
    }
   ],
   "source": [
    "a = \"my string with my other text\"\n",
    "a.count(\"my\")"
   ]
  },
  {
   "cell_type": "code",
   "execution_count": 59,
   "metadata": {},
   "outputs": [
    {
     "output_type": "execute_result",
     "data": {
      "text/plain": [
       "10"
      ]
     },
     "metadata": {},
     "execution_count": 59
    }
   ],
   "source": [
    "a.find(\"with\")"
   ]
  },
  {
   "cell_type": "code",
   "execution_count": 60,
   "metadata": {},
   "outputs": [
    {
     "output_type": "execute_result",
     "data": {
      "text/plain": [
       "-1"
      ]
     },
     "metadata": {},
     "execution_count": 60
    }
   ],
   "source": [
    "a.find(\"nothing\")"
   ]
  },
  {
   "cell_type": "markdown",
   "metadata": {
    "slideshow": {
     "slide_type": "slide"
    }
   },
   "source": [
    "### Split\n",
    "* `split(sep)` is a central string operation.\n",
    "* It splits a string wherever `sep` occurs (blank space by default)"
   ]
  },
  {
   "cell_type": "code",
   "execution_count": 61,
   "metadata": {},
   "outputs": [
    {
     "output_type": "execute_result",
     "data": {
      "text/plain": [
       "['one', '::', 'two', '::', 'three']"
      ]
     },
     "metadata": {},
     "execution_count": 61
    }
   ],
   "source": [
    "foo = \"one :: two :: three\"\n",
    "foo.split()"
   ]
  },
  {
   "cell_type": "code",
   "execution_count": 62,
   "metadata": {},
   "outputs": [
    {
     "output_type": "execute_result",
     "data": {
      "text/plain": [
       "['one ', ' two ', ' three']"
      ]
     },
     "metadata": {},
     "execution_count": 62
    }
   ],
   "source": [
    "foo.split('::')"
   ]
  },
  {
   "cell_type": "code",
   "execution_count": 63,
   "metadata": {},
   "outputs": [
    {
     "output_type": "execute_result",
     "data": {
      "text/plain": [
       "['one', 'two', 'three']"
      ]
     },
     "metadata": {},
     "execution_count": 63
    }
   ],
   "source": [
    "foo.split(' :: ')"
   ]
  },
  {
   "cell_type": "code",
   "execution_count": 64,
   "metadata": {},
   "outputs": [
    {
     "output_type": "execute_result",
     "data": {
      "text/plain": [
       "['this', 'is', 'a', 'test']"
      ]
     },
     "metadata": {},
     "execution_count": 64
    }
   ],
   "source": [
    "\"this is a test\".split()"
   ]
  },
  {
   "cell_type": "markdown",
   "metadata": {
    "slideshow": {
     "slide_type": "slide"
    }
   },
   "source": [
    "### Join\n",
    "* Join is another useful function/method in the string module.\n",
    "* It takes a list and joins the elements using some delimiter.\n"
   ]
  },
  {
   "cell_type": "code",
   "execution_count": 65,
   "metadata": {},
   "outputs": [
    {
     "output_type": "stream",
     "name": "stdout",
     "text": [
      "['this', 'is', 'some', 'text', 'to', 'analyse']\n['analyse', 'is', 'some', 'text', 'this', 'to']\nanalyse, is, some, text, this, to\n"
     ]
    }
   ],
   "source": [
    "text=\"this is some text to analyse\"\n",
    "words=text.split()\n",
    "print(words)\n",
    "words.sort()\n",
    "print(words)\n",
    "print(\", \".join(words))"
   ]
  },
  {
   "cell_type": "markdown",
   "metadata": {
    "slideshow": {
     "slide_type": "slide"
    }
   },
   "source": [
    "### Replace"
   ]
  },
  {
   "cell_type": "code",
   "execution_count": 66,
   "metadata": {},
   "outputs": [],
   "source": [
    "def censor(text):\n",
    "   'replace bad words in a text with XXX'\n",
    "   badwords = ['poo', 'bottom']\n",
    "   for b in badwords:\n",
    "      text = text.replace(b, 'XXX')\n",
    "   return text"
   ]
  },
  {
   "cell_type": "code",
   "execution_count": 67,
   "metadata": {},
   "outputs": [
    {
     "output_type": "execute_result",
     "data": {
      "text/plain": [
       "'this is all XXX and more XXX'"
      ]
     },
     "metadata": {},
     "execution_count": 67
    }
   ],
   "source": [
    "censor(\"this is all poo and more poo\")"
   ]
  },
  {
   "cell_type": "markdown",
   "metadata": {
    "slideshow": {
     "slide_type": "slide"
    }
   },
   "source": [
    "### Text Preprocessing with NLTK\n",
    "#### Tokenisation"
   ]
  },
  {
   "cell_type": "code",
   "execution_count": 68,
   "metadata": {},
   "outputs": [
    {
     "output_type": "stream",
     "name": "stderr",
     "text": [
      "[nltk_data] Downloading package punkt to /home/diego/nltk_data...\n[nltk_data]   Package punkt is already up-to-date!\n"
     ]
    },
    {
     "output_type": "execute_result",
     "data": {
      "text/plain": [
       "['This is a sentence.', 'This is another sentence.']"
      ]
     },
     "metadata": {},
     "execution_count": 68
    }
   ],
   "source": [
    "import nltk\n",
    "nltk.download(\"punkt\")\n",
    "text = \"This is a sentence. This is another sentence.\"\n",
    "nltk.sent_tokenize(text)"
   ]
  },
  {
   "cell_type": "code",
   "execution_count": 69,
   "metadata": {},
   "outputs": [
    {
     "output_type": "stream",
     "name": "stdout",
     "text": [
      "This\nis\na\nsentence\n.\n\nThis\nis\nanother\nsentence\n.\n\n"
     ]
    }
   ],
   "source": [
    "for s in nltk.sent_tokenize(text):\n",
    "    for w in nltk.word_tokenize(s):\n",
    "        print(w)\n",
    "    print()"
   ]
  },
  {
   "cell_type": "markdown",
   "metadata": {
    "slideshow": {
     "slide_type": "slide"
    }
   },
   "source": [
    "#### Part of speech tagging\n",
    "\n",
    "* Often it is useful to know whether a word is a noun, or an adjective, etc. These are called **parts of speech**.\n",
    "* NLTK has a part of speech tagger that tags a list of tokens.\n",
    "* The default list of parts of speech is fairly detailed but we can set a simplified version (called `universal` by NLTK).\n",
    "\n",
    "List of universal tagsets:\n",
    "\n",
    "| Tag | Meaning | English Examples |\n",
    "| --- | --- | --- |\n",
    "| `ADJ` | adjective | new, good, high, special, big, local |\n",
    "| `ADP` | adposition | on, of, at, with, by, into, under |\n",
    "| `ADV` | adverb | really, already, still, early, now |\n",
    "| `CONJ` | conjunction | and, or, but, if, while, although |\n",
    "| `DET` | determiner, article | the, a, some, most, every, no, which |\n",
    "| `NOUN` | noun | year, home, costs, time, Africa |\n",
    "| `NUM` | numeral | twenty-four, fourth, 1991, 14:24 |\n",
    "| `PRT` | particle | at, on, out, over per, that, up, with |\n",
    "| `PRON` | pronoun | he, their, her, its, my, I, us |\n",
    "| `VERB` | verb | is, say, told, given, playing, would |\n",
    "| `.` | punctuation marks | . , ; ! |\n",
    "| `X` | other | ersatz, esprit, dunno, gr8, univeristy |\n"
   ]
  },
  {
   "cell_type": "markdown",
   "metadata": {
    "slideshow": {
     "slide_type": "slide"
    }
   },
   "source": [
    "![WordPosPipeline](WordPosPipeline.png)"
   ]
  },
  {
   "cell_type": "code",
   "execution_count": 70,
   "metadata": {},
   "outputs": [
    {
     "output_type": "stream",
     "name": "stderr",
     "text": [
      "[nltk_data] Downloading package averaged_perceptron_tagger to\n[nltk_data]     /home/diego/nltk_data...\n[nltk_data]   Package averaged_perceptron_tagger is already up-to-\n[nltk_data]       date!\n"
     ]
    },
    {
     "output_type": "execute_result",
     "data": {
      "text/plain": [
       "[('this', 'DT'), ('is', 'VBZ'), ('a', 'DT'), ('test', 'NN')]"
      ]
     },
     "metadata": {},
     "execution_count": 70
    }
   ],
   "source": [
    "nltk.download(\"averaged_perceptron_tagger\")\n",
    "nltk.pos_tag([\"this\", \"is\", \"a\", \"test\"])"
   ]
  },
  {
   "cell_type": "code",
   "execution_count": 71,
   "metadata": {},
   "outputs": [
    {
     "output_type": "stream",
     "name": "stderr",
     "text": [
      "[nltk_data] Downloading package universal_tagset to\n",
      "[nltk_data]     /home/diego/nltk_data...\n",
      "[nltk_data]   Unzipping taggers/universal_tagset.zip.\n"
     ]
    },
    {
     "output_type": "execute_result",
     "data": {
      "text/plain": [
       "[('this', 'DET'), ('is', 'VERB'), ('a', 'DET'), ('test', 'NOUN')]"
      ]
     },
     "metadata": {},
     "execution_count": 71
    }
   ],
   "source": [
    "nltk.download(\"universal_tagset\")\n",
    "nltk.pos_tag([\"this\", \"is\", \"a\", \"test\"], tagset=\"universal\")"
   ]
  },
  {
   "cell_type": "code",
   "execution_count": 72,
   "metadata": {},
   "outputs": [
    {
     "output_type": "execute_result",
     "data": {
      "text/plain": [
       "[('this', 'DET'), ('is', 'VERB'), ('a', 'DET'), ('test', 'NOUN')]"
      ]
     },
     "metadata": {},
     "execution_count": 72
    }
   ],
   "source": [
    "nltk.pos_tag(nltk.word_tokenize(\"this is a test\"), tagset=\"universal\")"
   ]
  },
  {
   "cell_type": "markdown",
   "metadata": {
    "slideshow": {
     "slide_type": "slide"
    }
   },
   "source": [
    "![SentPosPipeline](SentPosPipeline.png)"
   ]
  },
  {
   "cell_type": "code",
   "execution_count": 73,
   "metadata": {},
   "outputs": [
    {
     "output_type": "execute_result",
     "data": {
      "text/plain": [
       "[['This', 'is', 'a', 'sentence', '.'],\n",
       " ['This', 'is', 'another', 'sentence', '.']]"
      ]
     },
     "metadata": {},
     "execution_count": 73
    }
   ],
   "source": [
    "text = \"This is a sentence. This is another sentence.\"\n",
    "text_sent_tokens = [nltk.word_tokenize(s) for s in nltk.sent_tokenize(text)]\n",
    "text_sent_tokens"
   ]
  },
  {
   "cell_type": "code",
   "execution_count": 74,
   "metadata": {},
   "outputs": [
    {
     "output_type": "execute_result",
     "data": {
      "text/plain": [
       "[[('This', 'DET'),\n",
       "  ('is', 'VERB'),\n",
       "  ('a', 'DET'),\n",
       "  ('sentence', 'NOUN'),\n",
       "  ('.', '.')],\n",
       " [('This', 'DET'),\n",
       "  ('is', 'VERB'),\n",
       "  ('another', 'DET'),\n",
       "  ('sentence', 'NOUN'),\n",
       "  ('.', '.')]]"
      ]
     },
     "metadata": {},
     "execution_count": 74
    }
   ],
   "source": [
    "nltk.pos_tag_sents(text_sent_tokens, tagset=\"universal\")"
   ]
  },
  {
   "cell_type": "markdown",
   "metadata": {
    "slideshow": {
     "slide_type": "subslide"
    }
   },
   "source": [
    "Below is an implementation that has the same behaviour as `pos_tag_sents`. Hopefully this can help you understand how it works:"
   ]
  },
  {
   "cell_type": "code",
   "execution_count": 75,
   "metadata": {},
   "outputs": [],
   "source": [
    "def my_pos_tag_sents(text_sent_tokens, tagset=\"universal\"):\n",
    "    return [nltk.pos_tag(s, tagset=tagset) for s in text_sent_tokens]"
   ]
  },
  {
   "cell_type": "code",
   "execution_count": 76,
   "metadata": {},
   "outputs": [
    {
     "output_type": "execute_result",
     "data": {
      "text/plain": [
       "[[('This', 'DET'),\n",
       "  ('is', 'VERB'),\n",
       "  ('a', 'DET'),\n",
       "  ('sentence', 'NOUN'),\n",
       "  ('.', '.')],\n",
       " [('This', 'DET'),\n",
       "  ('is', 'VERB'),\n",
       "  ('another', 'DET'),\n",
       "  ('sentence', 'NOUN'),\n",
       "  ('.', '.')]]"
      ]
     },
     "metadata": {},
     "execution_count": 76
    }
   ],
   "source": [
    "my_pos_tag_sents(text_sent_tokens, tagset=\"universal\")"
   ]
  },
  {
   "cell_type": "markdown",
   "metadata": {
    "slideshow": {
     "slide_type": "slide"
    }
   },
   "source": [
    "#### Stemming\n",
    "\n",
    "* Often it is useful to remove information such as verb form, or the difference between singular and plural.\n",
    "* NLTK offers stemming, which removes suffixes.\n",
    "    * The Porter stemmer is a popular stemmer.\n",
    "* The remaining stem is not a word but can be used, for example, by search engines (we'll see more of this in another lecture)."
   ]
  },
  {
   "cell_type": "code",
   "execution_count": 77,
   "metadata": {},
   "outputs": [],
   "source": [
    "s = nltk.PorterStemmer()"
   ]
  },
  {
   "cell_type": "code",
   "execution_count": 78,
   "metadata": {},
   "outputs": [
    {
     "output_type": "execute_result",
     "data": {
      "text/plain": [
       "'book'"
      ]
     },
     "metadata": {},
     "execution_count": 78
    }
   ],
   "source": [
    "s.stem(\"books\")"
   ]
  },
  {
   "cell_type": "code",
   "execution_count": 79,
   "metadata": {},
   "outputs": [
    {
     "output_type": "execute_result",
     "data": {
      "text/plain": [
       "'run'"
      ]
     },
     "metadata": {},
     "execution_count": 79
    }
   ],
   "source": [
    "s.stem(\"running\")"
   ]
  },
  {
   "cell_type": "code",
   "execution_count": 80,
   "metadata": {},
   "outputs": [
    {
     "output_type": "execute_result",
     "data": {
      "text/plain": [
       "'run'"
      ]
     },
     "metadata": {},
     "execution_count": 80
    }
   ],
   "source": [
    "s.stem(\"run\")"
   ]
  },
  {
   "cell_type": "code",
   "execution_count": 81,
   "metadata": {},
   "outputs": [
    {
     "output_type": "execute_result",
     "data": {
      "text/plain": [
       "'goe'"
      ]
     },
     "metadata": {},
     "execution_count": 81
    }
   ],
   "source": [
    "s.stem(\"goes\")"
   ]
  },
  {
   "cell_type": "code",
   "execution_count": 82,
   "metadata": {},
   "outputs": [
    {
     "output_type": "execute_result",
     "data": {
      "text/plain": [
       "['I', \"'m\", 'run', 'and', 'he', 'goe']"
      ]
     },
     "metadata": {},
     "execution_count": 82
    }
   ],
   "source": [
    "[s.stem(w) for w in nltk.word_tokenize(\"I'm running and he goes\")]"
   ]
  },
  {
   "cell_type": "markdown",
   "metadata": {
    "slideshow": {
     "slide_type": "slide"
    }
   },
   "source": [
    "### Exercises\n",
    "1.  What is the sentence with the largest number of tokens\n",
    "    in Austen's \"Emma\"?\n",
    "2. What is the most frequent part of speech in Austen's \"Emma\"?\n",
    "3. What is the number of distinct stems in Austen's \"Emma\"?\n",
    "4. What is the most ambiguous stem in Austen's \"Emma\"?\n",
    "    (meaning, which stem in Austen's \"Emma\" maps to the\n",
    "    largest number of distinct tokens?)"
   ]
  },
  {
   "cell_type": "code",
   "execution_count": null,
   "metadata": {},
   "outputs": [],
   "source": []
  }
 ],
 "metadata": {
  "anaconda-cloud": {},
  "celltoolbar": "Slideshow",
  "kernelspec": {
   "display_name": "Python 3.8.5 64-bit ('comp3220': conda)",
   "language": "python",
   "name": "python38564bitcomp3220conda34b612efe2954c1bbadf023adc7d85cc"
  },
  "language_info": {
   "codemirror_mode": {
    "name": "ipython",
    "version": 3
   },
   "file_extension": ".py",
   "mimetype": "text/x-python",
   "name": "python",
   "nbconvert_exporter": "python",
   "pygments_lexer": "ipython3",
   "version": "3.8.5-final"
  }
 },
 "nbformat": 4,
 "nbformat_minor": 2
}